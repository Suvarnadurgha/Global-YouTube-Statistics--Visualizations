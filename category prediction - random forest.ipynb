{
  "nbformat": 4,
  "nbformat_minor": 0,
  "metadata": {
    "colab": {
      "provenance": []
    },
    "kernelspec": {
      "name": "python3",
      "display_name": "Python 3"
    },
    "language_info": {
      "name": "python"
    }
  },
  "cells": [
    {
      "cell_type": "code",
      "source": [
        "from sklearn.ensemble import RandomForestClassifier\n",
        "from sklearn.metrics import classification_report\n",
        "# feature classification\n",
        "classification_features = ['uploads', 'video views', 'subscribers']\n",
        "\n",
        "# Drop rows with missing target\n",
        "data = data.dropna(subset=['category'] + classification_features)\n",
        "\n",
        "data['category_encoded'] = data['category'].astype('category').cat.codes\n",
        "\n",
        "\n",
        "X = data[classification_features]\n",
        "y = data['category_encoded']\n",
        "\n",
        "# train test split\n",
        "X_train, X_test, y_train, y_test = train_test_split(X, y, test_size=0.2, random_state=42)\n"
      ],
      "metadata": {
        "id": "ozQtJs0l0Auc"
      },
      "execution_count": 9,
      "outputs": []
    },
    {
      "cell_type": "code",
      "source": [
        "# Initialize\n",
        "rf_model = RandomForestClassifier(random_state=42)\n",
        "\n",
        "# Train\n",
        "rf_model.fit(X_train, y_train)\n",
        "\n",
        "# predictions\n",
        "y_pred = rf_model.predict(X_test)\n",
        "\n",
        "# Evaluate\n",
        "print(classification_report(y_test, y_pred))\n"
      ],
      "metadata": {
        "colab": {
          "base_uri": "https://localhost:8080/"
        },
        "id": "Ja6_arNY0Ql8",
        "outputId": "bc92831a-922b-445e-865d-1684bba10846"
      },
      "execution_count": 10,
      "outputs": [
        {
          "output_type": "stream",
          "name": "stdout",
          "text": [
            "              precision    recall  f1-score   support\n",
            "\n",
            "           1       0.36      0.31      0.33        13\n",
            "           2       0.00      0.00      0.00         8\n",
            "           3       0.27      0.44      0.33        48\n",
            "           4       0.00      0.00      0.00        10\n",
            "           5       0.21      0.25      0.23        20\n",
            "           6       0.00      0.00      0.00        11\n",
            "           8       0.41      0.59      0.48        34\n",
            "           9       0.00      0.00      0.00         7\n",
            "          11       0.20      0.12      0.15        24\n",
            "          13       0.00      0.00      0.00         5\n",
            "          14       0.00      0.00      0.00         4\n",
            "          15       0.00      0.00      0.00         5\n",
            "          16       0.00      0.00      0.00         1\n",
            "\n",
            "    accuracy                           0.28       190\n",
            "   macro avg       0.11      0.13      0.12       190\n",
            "weighted avg       0.21      0.28      0.24       190\n",
            "\n"
          ]
        },
        {
          "output_type": "stream",
          "name": "stderr",
          "text": [
            "/usr/local/lib/python3.10/dist-packages/sklearn/metrics/_classification.py:1344: UndefinedMetricWarning: Precision and F-score are ill-defined and being set to 0.0 in labels with no predicted samples. Use `zero_division` parameter to control this behavior.\n",
            "  _warn_prf(average, modifier, msg_start, len(result))\n",
            "/usr/local/lib/python3.10/dist-packages/sklearn/metrics/_classification.py:1344: UndefinedMetricWarning: Precision and F-score are ill-defined and being set to 0.0 in labels with no predicted samples. Use `zero_division` parameter to control this behavior.\n",
            "  _warn_prf(average, modifier, msg_start, len(result))\n",
            "/usr/local/lib/python3.10/dist-packages/sklearn/metrics/_classification.py:1344: UndefinedMetricWarning: Precision and F-score are ill-defined and being set to 0.0 in labels with no predicted samples. Use `zero_division` parameter to control this behavior.\n",
            "  _warn_prf(average, modifier, msg_start, len(result))\n"
          ]
        }
      ]
    },
    {
      "cell_type": "code",
      "source": [
        "# Calculate feature importance\n",
        "importances = rf_model.feature_importances_\n",
        "feature_names = classification_features\n",
        "\n",
        "plt.figure(figsize=(8, 6))\n",
        "plt.barh(feature_names, importances, color='lightgreen')\n",
        "plt.xlabel('Importance')\n",
        "plt.title('Feature Importance for Predicting YouTube Category')\n",
        "plt.show()\n"
      ],
      "metadata": {
        "colab": {
          "base_uri": "https://localhost:8080/",
          "height": 564
        },
        "id": "xYhnIVnG0SgH",
        "outputId": "636a6dcf-2c90-48cb-a9cc-f7c208d9b95e"
      },
      "execution_count": 11,
      "outputs": [
        {
          "output_type": "display_data",
          "data": {
            "text/plain": [
              "<Figure size 800x600 with 1 Axes>"
            ],
            "image/png": "[encoded data removed]"
          },
          "metadata": {}
        }
      ]
    },
    {
      "cell_type": "code",
      "source": [
        "from sklearn.model_selection import GridSearchCV\n",
        "\n",
        "param_grid = {\n",
        "    'n_estimators': [100, 200],\n",
        "    'max_depth': [None, 10, 20],\n",
        "    'min_samples_split': [2, 5],\n",
        "}\n",
        "\n",
        "grid_search = GridSearchCV(estimator=rf_model, param_grid=param_grid, cv=3, scoring='accuracy')\n",
        "grid_search.fit(X_train, y_train)\n",
        "\n",
        "print(f'Best Parameters: {grid_search.best_params_}')\n",
        "print(f'Best Cross-Validation Score: {grid_search.best_score_}')\n"
      ],
      "metadata": {
        "colab": {
          "base_uri": "https://localhost:8080/"
        },
        "id": "HDZ7uDY-0U-i",
        "outputId": "bda88912-81bd-4e97-d448-345eaf86e6f9"
      },
      "execution_count": null,
      "outputs": [
        {
          "output_type": "stream",
          "name": "stderr",
          "text": [
            "/usr/local/lib/python3.10/dist-packages/sklearn/model_selection/_split.py:700: UserWarning: The least populated class in y has only 1 members, which is less than n_splits=3.\n",
            "  warnings.warn(\n"
          ]
        }
      ]
    },
    {
      "cell_type": "code",
      "source": [],
      "metadata": {
        "id": "KPRe11n00WzE"
      },
      "execution_count": null,
      "outputs": []
    }
  ]
}